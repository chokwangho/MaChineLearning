{
 "cells": [
  {
   "cell_type": "markdown",
   "metadata": {},
   "source": [
    "# Logical Perceptron"
   ]
  },
  {
   "cell_type": "code",
   "execution_count": 35,
   "metadata": {},
   "outputs": [
    {
     "name": "stdout",
     "output_type": "stream",
     "text": [
      "Nice!  You got it all correct.\n",
      "\n",
      "Input 1    Input 2    Linear Combination    Activation Output   Is Correct\n",
      "      0          0                   0.0                    1          Yes\n",
      "      0          1                  -0.1                    0          Yes\n",
      "      1          0                   0.0                    1          Yes\n",
      "      1          1                  -0.1                    0          Yes\n"
     ]
    }
   ],
   "source": [
    "import pandas as pd\n",
    "\n",
    "# TODO: Set weight1, weight2, and bias\n",
    "#AND PERCEPTRON의 가중치와 바이어스\n",
    "'''weight1 = 1.0\n",
    "weight2 = 1.0\n",
    "bias = -1.5''' \n",
    "#OR PERCEPTRON의 가중치와 바이어스\n",
    "'''weight1 = 1.0\n",
    "weight2 = 1.0\n",
    "bias = -0.5'''  \n",
    "#OR PERCEPTRON의 가중치와 바이어스\n",
    "'''weight1 = 2 \n",
    "weight2 = 2\n",
    "bias = -1.5''' \n",
    "#NOT PERCEPTRON의 가중치와 절편\n",
    "weight1 = 0\n",
    "weight2 = -0.1 \n",
    "bias = 0\n",
    "\n",
    "#XOR PERCEPTRON은 Multi-Layer Perceptron으로 build한다.\n",
    "\n",
    "\n",
    "# Inputs and outputs\n",
    "test_inputs = [(0, 0), (0, 1), (1, 0), (1, 1)]\n",
    "correct_outputs = [False, False, False, True] # AND Perceptron coreect_outputs\n",
    "correct_outputs2 = [False, True, True, True] # OR Perceptron coreect_outputs\n",
    "correct_outputs3 = [True, False, True, False] # NOT Perceptron corecct_outputs인데 test_input의 두번째 입력만 고려한다.\n",
    "outputs = []\n",
    "\n",
    "# Generate and check output\n",
    "for test_input, correct_output in zip(test_inputs, correct_outputs3):\n",
    "    linear_combination = weight1 * test_input[0] + weight2 * test_input[1] + bias\n",
    "    output = int(linear_combination >= 0)\n",
    "    \n",
    "    is_correct_string = 'Yes' if output == correct_output else 'No'\n",
    "    outputs.append([test_input[0], test_input[1], linear_combination, output, is_correct_string])\n",
    "\n",
    "# Print output\n",
    "num_wrong = len([output[4] for output in outputs if output[4] == 'No'])\n",
    "output_frame = pd.DataFrame(outputs, columns=['Input 1', '  Input 2', '  Linear Combination', '  Activation Output', '  Is Correct'])\n",
    "if not num_wrong:\n",
    "    print('Nice!  You got it all correct.\\n')\n",
    "else:\n",
    "    print('You got {} wrong.  Keep trying!\\n'.format(num_wrong)) \n",
    "print(output_frame.to_string(index=False)) "
   ]
  },
  {
   "cell_type": "markdown",
   "metadata": {},
   "source": [
    "# XOR Percepton"
   ]
  },
  {
   "cell_type": "code",
   "execution_count": 5,
   "metadata": {},
   "outputs": [
    {
     "name": "stdout",
     "output_type": "stream",
     "text": [
      "Nice!  You got it all correct.\n",
      "\n",
      "Input 1    Input 2    Linear Combination    Activation Output   Is Correct\n",
      "      0          0                  -0.5                    0          Yes\n",
      "      0          1                   0.5                    1          Yes\n",
      "      1          0                   0.5                    1          Yes\n",
      "      1          1                  -0.5                    0          Yes\n"
     ]
    }
   ],
   "source": [
    "\n",
    "#XOR PERCEPTRON은 Multi-Layer Perceptron으로 build한다.\n",
    "weight1 = 1.0\n",
    "weight2 = 1.0 \n",
    "weight3 = -1.0\n",
    "weight4 =1.0\n",
    "weight5 =1.0 \n",
    "bias = -1.5\n",
    "bias2 = -0.5\n",
    "\n",
    "# Inputs and outputs\n",
    "test_inputs = [(0, 0), (0, 1), (1, 0), (1, 1)]\n",
    "correct_outputs = [False, True, True, False] # XOR Perceptron coreect_outputs\n",
    "outputs = []\n",
    "\n",
    "# Generate and check output\n",
    "for test_input, correct_output in zip(test_inputs, correct_outputs):\n",
    "    linear_combination = weight1 * test_input[0] + weight2 * test_input[1] + bias #AND (A)\n",
    "    output = int(linear_combination >= 0) #AND output\n",
    "    linear_combination2 = weight3 * output #NOT (A->C)\n",
    "    output2 = int(linear_combination2>= 0) #NOT output\n",
    "    linear_combination3 = weight4 * test_input[0] + weight5 * test_input[1] + bias2#OR\n",
    "    output3 = int(linear_combination3 >= 0) #OR output (B)\n",
    "    linear_combination4 = weight1 * output2 + weight2 * output3 + bias #AND ( C & B )\n",
    "    output4 = int(linear_combination4 >= 0)\n",
    "    is_correct_string = 'Yes' if output4 == correct_output else 'No'\n",
    "    outputs.append([test_input[0], test_input[1], linear_combination4, output4, is_correct_string])\n",
    "\n",
    "# Print output\n",
    "num_wrong = len([output[4] for output in outputs if output[4] == 'No'])\n",
    "output_frame = pd.DataFrame(outputs, columns=['Input 1', '  Input 2', '  Linear Combination', '  Activation Output', '  Is Correct'])\n",
    "if not num_wrong:\n",
    "    print('Nice!  You got it all correct.\\n')\n",
    "else:\n",
    "    print('You got {} wrong.  Keep trying!\\n'.format(num_wrong)) \n",
    "print(output_frame.to_string(index=False)) \n"
   ]
  },
  {
   "cell_type": "markdown",
   "metadata": {},
   "source": [
    "# Perceptron Example"
   ]
  },
  {
   "cell_type": "code",
   "execution_count": 3,
   "metadata": {},
   "outputs": [],
   "source": [
    "import numpy as np\n",
    "import matplotlib.pyplot as plt\n",
    "# Setting the random seed, feel free to change it and see different solutions.\n",
    "np.random.seed(5)\n",
    "\n",
    "def stepFunction(t): #활성함수\n",
    "    if t >= 0:\n",
    "        return 1\n",
    "    return 0\n",
    "\n",
    "def prediction(X, W, b): #퍼셉트론 동작\n",
    "    return stepFunction((np.matmul(X,W)+b)[0])\n",
    "\n",
    "# TODO: Fill in the code below to implement the perceptron trick.\n",
    "# The function should receive as inputs the data X, the labels y,\n",
    "# the weights W (as an array), and the bias b,\n",
    "# update the weights and bias W, b, according to the perceptron algorithm,\n",
    "# and return W and b.\n",
    "def perceptronStep(X, y, W, b, learn_rate = 0.01): #학습 알고리즘\n",
    "    for i in range(len(X)):\n",
    "        y_hat = prediction(X[i],W,b)\n",
    "        if y[i]-y_hat == 1:\n",
    "            W[0] += X[i][0]*learn_rate\n",
    "            W[1] += X[i][1]*learn_rate\n",
    "            b += learn_rate\n",
    "        elif y[i]-y_hat == -1:\n",
    "            W[0] -= X[i][0]*learn_rate\n",
    "            W[1] -= X[i][1]*learn_rate\n",
    "            b -= learn_rate\n",
    "    return W, b\n",
    "\n",
    "    \n",
    "# This function runs the perceptron algorithm repeatedly on the dataset,\n",
    "# and returns a few of the boundary lines obtained in the iterations,\n",
    "# for plotting purposes.\n",
    "# Feel free to play with the learning rate and the num_epochs,\n",
    "# and see your results plotted below.\n",
    "def trainPerceptronAlgorithm(X, y, learn_rate = 0.01, num_epochs = 25):#epoch : 데이터셋을 몇번 반복할것인가\n",
    "    x_min, x_max = min(X.T[0]), max(X.T[0])\n",
    "    y_min, y_max = min(X.T[1]), max(X.T[1])\n",
    "    W = np.array(np.random.rand(2,1))\n",
    "    b = np.random.rand(1)[0] + x_max\n",
    "    # These are the solution lines that get plotted below.\n",
    "    boundary_lines = []\n",
    "    for i in range(num_epochs):\n",
    "        # In each epoch, we apply the perceptron step.\n",
    "        W, b = perceptronStep(X, y, W, b, learn_rate)\n",
    "        boundary_lines.append((-W[0]/W[1], -b/W[1]))\n",
    "    return boundary_lines\n",
    "    "
   ]
  },
  {
   "cell_type": "code",
   "execution_count": 33,
   "metadata": {},
   "outputs": [
    {
     "data": {
      "image/png": "[encoded data removed]",
      "text/plain": [
       "<Figure size 432x288 with 1 Axes>"
      ]
     },
     "metadata": {
      "needs_background": "light"
     },
     "output_type": "display_data"
    }
   ],
   "source": [
    "data = np.loadtxt('data2.csv', delimiter = ',')\n",
    "X = data[:,:-1] \n",
    "y = data[:,-1] \n",
    "\n",
    "boundary_lines=trainPerceptronAlgorithm(X,y)\n",
    "\n",
    "plt.figure() \n",
    "X_min = X.min() \n",
    "X_max = X.max() \n",
    "\n",
    "counter = len(boundary_lines) \n",
    "    \n",
    "for W, b in boundary_lines:\n",
    "    counter -= 1\n",
    "    color = [1 - 0.92 ** counter for _ in range(3)] #그래프에 그려질 색깔 선정\n",
    "    plt.plot([X_min, X_max],[X_min * W + b, X_max * W + b], color = color)\n",
    "    \n",
    "plt.scatter(X[:,0], X[:,1],zorder=3) \n",
    "plt.show()"
   ]
  },
  {
   "cell_type": "markdown",
   "metadata": {},
   "source": [
    "# Gradient_Descent"
   ]
  },
  {
   "cell_type": "code",
   "execution_count": 62,
   "metadata": {},
   "outputs": [
    {
     "name": "stdout",
     "output_type": "stream",
     "text": [
      "Train - Predictors shape (80, 1)\n",
      "Test - Predictors shape (20, 1)\n",
      "Train - Target shape (80, 1)\n",
      "Test - Target shape (20, 1)\n"
     ]
    },
    {
     "data": {
      "image/png": "[encoded data removed]",
      "text/plain": [
       "<Figure size 432x432 with 3 Axes>"
      ]
     },
     "metadata": {
      "needs_background": "light"
     },
     "output_type": "display_data"
    }
   ],
   "source": [
    "import numpy as np\n",
    "import pandas as pd\n",
    "from sklearn import linear_model\n",
    "from sklearn.model_selection import train_test_split\n",
    "import seaborn as sns\n",
    "from sklearn import metrics\n",
    "import matplotlib.pyplot as plt\n",
    "%matplotlib inline\n",
    "from sklearn.metrics import accuracy_score\n",
    "import time\n",
    "from sklearn.linear_model import SGDRegressor\n",
    "from sklearn.utils import shuffle\n",
    "\n",
    "df = pd.read_csv('data3.csv', index_col=False)\n",
    "df.head()\n",
    "\n",
    "sns.jointplot(x=df['Hours'], y=df['Marks'], data=df, kind='reg')\n",
    "\n",
    "#setting Data\n",
    "x_train, x_test, y_train, y_test = train_test_split(df['Hours'], df['Marks'], test_size=0.2, random_state=42)\n",
    "\n",
    "x_train = x_train.values.reshape(-1,1)\n",
    "x_test = x_test.values.reshape(-1,1)\n",
    "y_train =y_train.values.reshape(-1,1)\n",
    "y_test = y_test.values.reshape(-1,1)\n",
    "\n",
    "print('Train - Predictors shape', x_train.shape)\n",
    "print('Test - Predictors shape', x_test.shape)\n",
    "print('Train - Target shape', y_train.shape)\n",
    "print('Test - Target shape', y_test.shape)"
   ]
  },
  {
   "cell_type": "markdown",
   "metadata": {},
   "source": [
    "# Batch Gradient Descent"
   ]
  },
  {
   "cell_type": "code",
   "execution_count": 63,
   "metadata": {},
   "outputs": [],
   "source": [
    "def weightInitialization(n_features):\n",
    "    w = np.zeros((1,n_features))\n",
    "    b = 0\n",
    "    return w,b\n",
    "\n",
    "def model_optimize(w,b,X,Y):\n",
    "    #\n",
    "    m = X.shape[0]\n",
    "    #\n",
    "    final_result = np.dot(w, X.T) + b\n",
    "    cost = (1/m)*np.sum((Y.T - final_result) ** 2)\n",
    "    #\n",
    "    dw = (-2/m)*np.sum((np.dot(X.T,(Y.T - final_result).T)))\n",
    "    db = (-2/m)*np.sum(((Y.T - final_result)))\n",
    "    #\n",
    "    grads = {\"dw\": dw, \"db\": db}\n",
    "    \n",
    "    return grads, cost\n",
    "\n",
    "def gradientUpdate(w,b,X, Y, learning_rate, no_iterations):\n",
    "    costs = []\n",
    "    for i in range(no_iterations):\n",
    "        #\n",
    "        grads, cost = model_optimize(w,b, X,Y)\n",
    "        #\n",
    "        dw = grads[\"dw\"]\n",
    "        db = grads[\"db\"]\n",
    "        #Weight Update\n",
    "        w = w - (learning_rate*dw)\n",
    "        b = b - (learning_rate*db)\n",
    "        #\n",
    "        \n",
    "        costs.append(cost)\n",
    "    #\n",
    "    \n",
    "    coeff = {\"w\": w, \"b\": b}\n",
    "    gradient = {\"dw\": dw, \"db\": db}\n",
    "    \n",
    "    return coeff, gradient, costs\n",
    "\n",
    "def predict(x,w,b):\n",
    "    final_pred = np.dot(w, x.T) + b\n",
    "    return final_pred\n"
   ]
  },
  {
   "cell_type": "code",
   "execution_count": 64,
   "metadata": {},
   "outputs": [
    {
     "name": "stdout",
     "output_type": "stream",
     "text": [
      "Number of Features 1\n",
      "Optimized weights [[1.48658234]]\n",
      "Optimized intercept 0.03090541362538872\n",
      "Training error 110.04357167049562\n",
      "Test error 123.81197636929906\n",
      "Model R^2 Square value 0.6892738465111586\n",
      "--- 0.003009319305419922 seconds ---\n"
     ]
    }
   ],
   "source": [
    "\n",
    "start_time = time.time()\n",
    "#\n",
    "#Get number of features\n",
    "n_features = x_train.shape[1]\n",
    "m_tr = x_train.shape[0]\n",
    "m_ts = x_test.shape[0]\n",
    "print('Number of Features', n_features)\n",
    "w, b = weightInitialization(n_features)\n",
    "#Gradient Descent\n",
    "coeff, gradient, costs = gradientUpdate(w, b, x_train, y_train, learning_rate=0.0001,no_iterations=20)\n",
    "#Final prediction\n",
    "w = coeff[\"w\"]\n",
    "b = coeff[\"b\"]\n",
    "print('Optimized weights', w)\n",
    "print('Optimized intercept',b)\n",
    "#\n",
    "final_tr_pred = predict(x_train, w,b)\n",
    "final_tr_cost = (1/m_tr)*np.sum((y_train.T - final_tr_pred) ** 2)\n",
    "print('Training error',final_tr_cost)\n",
    "#\n",
    "final_ts_pred = predict(x_test, w,b)\n",
    "final_ts_cost = (1/m_ts)*np.sum((y_test.T - final_ts_pred) ** 2)\n",
    "print('Test error',final_ts_cost)\n",
    "#\n",
    "print('Model R^2 Square value', metrics.r2_score(y_test, final_ts_pred.T))\n",
    "#\n",
    "print(\"--- %s seconds ---\" % (time.time() - start_time))\n"
   ]
  },
  {
   "cell_type": "code",
   "execution_count": 65,
   "metadata": {},
   "outputs": [
    {
     "data": {
      "image/png": "[encoded data removed]",
      "text/plain": [
       "<Figure size 432x288 with 1 Axes>"
      ]
     },
     "metadata": {
      "needs_background": "light"
     },
     "output_type": "display_data"
    }
   ],
   "source": [
    "plt.plot(costs)\n",
    "plt.ylabel('cost')\n",
    "plt.xlabel('iterations (per hundreds)')\n",
    "plt.title('Cost reduction over time')\n",
    "plt.show()"
   ]
  },
  {
   "cell_type": "code",
   "execution_count": 66,
   "metadata": {},
   "outputs": [
    {
     "data": {
      "text/plain": [
       "Text(0, 0.5, 'Residual')"
      ]
     },
     "execution_count": 66,
     "metadata": {},
     "output_type": "execute_result"
    },
    {
     "data": {
      "image/png": "[encoded data removed]",
      "text/plain": [
       "<Figure size 432x288 with 1 Axes>"
      ]
     },
     "metadata": {
      "needs_background": "light"
     },
     "output_type": "display_data"
    }
   ],
   "source": [
    "plt.scatter(final_ts_pred, final_ts_pred.T - y_test, c='g', s = 40)\n",
    "plt.hlines(y=0, xmin=0, xmax=100)\n",
    "plt.title('Residual plot')\n",
    "plt.ylabel('Residual')"
   ]
  },
  {
   "cell_type": "markdown",
   "metadata": {},
   "source": [
    "# Stochastic Gradient Descent"
   ]
  },
  {
   "cell_type": "code",
   "execution_count": 68,
   "metadata": {},
   "outputs": [],
   "source": [
    "def stochasticUpdate(w,b,X, Y, learning_rate, no_iterations):\n",
    "    #\n",
    "    n_points = X.shape[0]\n",
    "    #\n",
    "    for i in range(no_iterations):\n",
    "        for i in range(n_points):\n",
    "            index = np.random.randint(n_points)\n",
    "            x_pt = X[index:index+1]\n",
    "            y_pt = Y[index:index+1]\n",
    "            grads, cost = model_optimize(w,b, x_pt,y_pt)\n",
    "            #\n",
    "            dw = grads[\"dw\"]\n",
    "            db = grads[\"db\"]\n",
    "            #Weight Update\n",
    "            w = w - (learning_rate*dw)\n",
    "            b = b - (learning_rate*db)\n",
    "        #\n",
    "            costs.append(cost)\n",
    "    #\n",
    "    \n",
    "    coeff = {\"w\": w, \"b\": b}\n",
    "    gradient = {\"dw\": dw, \"db\": db}\n",
    "    \n",
    "    return coeff, gradient, costs"
   ]
  },
  {
   "cell_type": "code",
   "execution_count": 70,
   "metadata": {},
   "outputs": [
    {
     "name": "stdout",
     "output_type": "stream",
     "text": [
      "Number of Features 1\n",
      "Optimized weights [[1.45618933]]\n",
      "Optimized intercept 0.03725424800104784\n",
      "Training error 112.38683136799055\n",
      "Test error 120.02493219302008\n",
      "Model R^2 Square value 0.6987780455756949\n",
      "--- 0.0511014461517334 seconds ---\n"
     ]
    }
   ],
   "source": [
    "start_time = time.time()\n",
    "#Get number of features\n",
    "n_features = x_train.shape[1]\n",
    "m_tr = x_train.shape[0]\n",
    "m_ts = x_test.shape[0]\n",
    "print('Number of Features', n_features)\n",
    "w, b = weightInitialization(n_features)\n",
    "\n",
    "\n",
    "#Gradient Descent\n",
    "coeff, gradient, costs = stochasticUpdate(w, b, x_train, y_train, learning_rate=0.00001,no_iterations=10)\n",
    "#Final prediction\n",
    "w = coeff[\"w\"]\n",
    "b = coeff[\"b\"]\n",
    "print('Optimized weights', w)\n",
    "print('Optimized intercept',b)\n",
    "#\n",
    "\n",
    "\n",
    "final_tr_pred = predict(x_train, w,b)\n",
    "final_tr_cost = (1/m_tr)*np.sum((y_train.T - final_tr_pred) ** 2)\n",
    "print('Training error',final_tr_cost)\n",
    "#\n",
    "final_ts_pred = predict(x_test, w,b)\n",
    "final_ts_cost = (1/m_ts)*np.sum((y_test.T - final_ts_pred) ** 2)\n",
    "print('Test error',final_ts_cost)\n",
    "#\n",
    "print('Model R^2 Square value', metrics.r2_score(y_test, final_ts_pred.T))\n",
    "\n",
    "print(\"--- %s seconds ---\" % (time.time() - start_time))"
   ]
  },
  {
   "cell_type": "code",
   "execution_count": 72,
   "metadata": {},
   "outputs": [
    {
     "data": {
      "image/png": "[encoded data removed]",
      "text/plain": [
       "<Figure size 432x288 with 1 Axes>"
      ]
     },
     "metadata": {
      "needs_background": "light"
     },
     "output_type": "display_data"
    }
   ],
   "source": [
    "plt.plot(costs)\n",
    "plt.ylabel('cost')\n",
    "plt.xlabel('iterations (per hundreds)')\n",
    "plt.title('Cost reduction over time')\n",
    "plt.show()"
   ]
  },
  {
   "cell_type": "code",
   "execution_count": 73,
   "metadata": {},
   "outputs": [
    {
     "name": "stderr",
     "output_type": "stream",
     "text": [
      "C:\\Users\\IBK\\Anaconda3\\lib\\site-packages\\sklearn\\linear_model\\stochastic_gradient.py:152: DeprecationWarning: n_iter parameter is deprecated in 0.19 and will be removed in 0.21. Use max_iter and tol instead.\n",
      "  DeprecationWarning)\n",
      "C:\\Users\\IBK\\Anaconda3\\lib\\site-packages\\sklearn\\utils\\validation.py:761: DataConversionWarning: A column-vector y was passed when a 1d array was expected. Please change the shape of y to (n_samples, ), for example using ravel().\n",
      "  y = column_or_1d(y, warn=True)\n"
     ]
    },
    {
     "data": {
      "text/plain": [
       "(array([0.03411322]), array([1.44497408]))"
      ]
     },
     "execution_count": 73,
     "metadata": {},
     "output_type": "execute_result"
    }
   ],
   "source": [
    "sgd_reg = SGDRegressor(n_iter=10, penalty=None, eta0=0.0001)\n",
    "sgd_reg.fit(x_train, y_train)\n",
    "sgd_reg.intercept_, sgd_reg.coef_"
   ]
  },
  {
   "cell_type": "code",
   "execution_count": 75,
   "metadata": {},
   "outputs": [
    {
     "data": {
      "text/plain": [
       "Text(0, 0.5, 'Residual')"
      ]
     },
     "execution_count": 75,
     "metadata": {},
     "output_type": "execute_result"
    },
    {
     "data": {
      "image/png": "[encoded data removed]",
      "text/plain": [
       "<Figure size 432x288 with 1 Axes>"
      ]
     },
     "metadata": {
      "needs_background": "light"
     },
     "output_type": "display_data"
    }
   ],
   "source": [
    "plt.scatter(final_ts_pred, final_ts_pred.T - y_test, c='g', s = 40)\n",
    "plt.hlines(y=0, xmin=0, xmax=100)\n",
    "plt.title('Residual plot')\n",
    "plt.ylabel('Residual')"
   ]
  },
  {
   "cell_type": "markdown",
   "metadata": {},
   "source": [
    "# Mini-Batch Gradient Descent"
   ]
  },
  {
   "cell_type": "code",
   "execution_count": 83,
   "metadata": {},
   "outputs": [],
   "source": [
    "def miniBatchUpdate(w,b,X, Y, learning_rate, no_iterations):\n",
    "    #\n",
    "    n_points = X.shape[0]\n",
    "    #\n",
    "    for i in range(no_iterations):\n",
    "        X, y = shuffle(x_train, y_train)\n",
    "        x_random = X[:40]\n",
    "        y_random = y[:40]\n",
    "        \n",
    "        grads, cost = model_optimize(w,b, x_random,y_random)\n",
    "        #\n",
    "        dw = grads[\"dw\"]\n",
    "        db = grads[\"db\"]\n",
    "        #Weight Update\n",
    "        w = w - (learning_rate*dw)\n",
    "        b = b - (learning_rate*db)\n",
    "        #\n",
    "        costs.append(cost)\n",
    "    #\n",
    "    \n",
    "    coeff = {\"w\": w, \"b\": b}\n",
    "    gradient = {\"dw\": dw, \"db\": db}\n",
    "    \n",
    "    return coeff, gradient, costs"
   ]
  },
  {
   "cell_type": "code",
   "execution_count": 84,
   "metadata": {},
   "outputs": [
    {
     "name": "stdout",
     "output_type": "stream",
     "text": [
      "Number of Features 1\n",
      "Optimized weights [[1.46381745]]\n",
      "Optimized intercept 0.029898197995871473\n",
      "Training error 111.37585365895967\n",
      "Test error 120.5814694797508\n",
      "Model R^2 Square value 0.6973813253596866\n",
      "--- 0.004464149475097656 seconds ---\n"
     ]
    }
   ],
   "source": [
    "start_time = time.time()\n",
    "#Get number of features\n",
    "n_features = x_train.shape[1]\n",
    "m_tr = x_train.shape[0]\n",
    "m_ts = x_test.shape[0]\n",
    "print('Number of Features', n_features)\n",
    "w, b = weightInitialization(n_features)\n",
    "\n",
    "\n",
    "#Gradient Descent\n",
    "coeff, gradient, costs = miniBatchUpdate(w, b, x_train, y_train, learning_rate=0.0001,no_iterations=10)\n",
    "#Final prediction\n",
    "w = coeff[\"w\"]\n",
    "b = coeff[\"b\"]\n",
    "print('Optimized weights', w)\n",
    "print('Optimized intercept',b)\n",
    "#\n",
    "\n",
    "\n",
    "final_tr_pred = predict(x_train, w,b)\n",
    "final_tr_cost = (1/m_tr)*np.sum((y_train.T - final_tr_pred) ** 2)\n",
    "print('Training error',final_tr_cost)\n",
    "#\n",
    "final_ts_pred = predict(x_test, w,b)\n",
    "final_ts_cost = (1/m_ts)*np.sum((y_test.T - final_ts_pred) ** 2)\n",
    "print('Test error',final_ts_cost)\n",
    "#\n",
    "print('Model R^2 Square value', metrics.r2_score(y_test, final_ts_pred.T))\n",
    "\n",
    "print(\"--- %s seconds ---\" % (time.time() - start_time))"
   ]
  },
  {
   "cell_type": "code",
   "execution_count": 85,
   "metadata": {},
   "outputs": [
    {
     "data": {
      "image/png": "[encoded data removed]",
      "text/plain": [
       "<Figure size 432x288 with 1 Axes>"
      ]
     },
     "metadata": {
      "needs_background": "light"
     },
     "output_type": "display_data"
    }
   ],
   "source": [
    "plt.plot(costs)\n",
    "plt.ylabel('cost')\n",
    "plt.xlabel('iterations (per hundreds)')\n",
    "plt.title('Cost reduction over time')\n",
    "plt.show()"
   ]
  },
  {
   "cell_type": "code",
   "execution_count": 86,
   "metadata": {},
   "outputs": [
    {
     "data": {
      "text/plain": [
       "Text(0, 0.5, 'Residual')"
      ]
     },
     "execution_count": 86,
     "metadata": {},
     "output_type": "execute_result"
    },
    {
     "data": {
      "image/png": "[encoded data removed]",
      "text/plain": [
       "<Figure size 432x288 with 1 Axes>"
      ]
     },
     "metadata": {
      "needs_background": "light"
     },
     "output_type": "display_data"
    }
   ],
   "source": [
    "plt.scatter(final_ts_pred, final_ts_pred.T - y_test, c='g', s = 40)\n",
    "plt.hlines(y=0, xmin=0, xmax=100)\n",
    "plt.title('Residual plot')\n",
    "plt.ylabel('Residual')"
   ]
  }
 ],
 "metadata": {
  "kernelspec": {
   "display_name": "Python 3",
   "language": "python",
   "name": "python3"
  },
  "language_info": {
   "codemirror_mode": {
    "name": "ipython",
    "version": 3
   },
   "file_extension": ".py",
   "mimetype": "text/x-python",
   "name": "python",
   "nbconvert_exporter": "python",
   "pygments_lexer": "ipython3",
   "version": "3.7.1"
  }
 },
 "nbformat": 4,
 "nbformat_minor": 2
}
